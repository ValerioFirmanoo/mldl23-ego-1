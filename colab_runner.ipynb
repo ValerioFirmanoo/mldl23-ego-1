{
  "cells": [
    {
      "cell_type": "markdown",
      "metadata": {
        "id": "view-in-github",
        "colab_type": "text"
      },
      "source": [
        "<a href=\"https://colab.research.google.com/github/ValerioFirmanoo/mldl23-ego-1/blob/master/colab_runner.ipynb\" target=\"_parent\"><img src=\"https://colab.research.google.com/assets/colab-badge.svg\" alt=\"Open In Colab\"/></a>"
      ]
    },
    {
      "cell_type": "markdown",
      "metadata": {
        "id": "yhBRhs14YVK-"
      },
      "source": [
        "# Colab Runner for MLDL23-Ego"
      ]
    },
    {
      "cell_type": "markdown",
      "metadata": {
        "id": "view-in-github"
      },
      "source": [
        "<a href=\"https://colab.research.google.com/github/EgovisionPolito/mldl23-ego/blob/master/colab_runner.ipynb\" target=\"_parent\"><img src=\"https://colab.research.google.com/assets/colab-badge.svg\" alt=\"Open In Colab\"/></a>"
      ]
    },
    {
      "cell_type": "markdown",
      "metadata": {
        "id": "cpOI-h4OYVLE"
      },
      "source": [
        "## EPIC-Kitchens-55 dataset\n",
        "\n",
        "**READ carefully!**\n",
        "\n",
        "To develop the project, you need to download the RGB frames for a subset of EPIC-Kitchens-55 (participants P08, P01 and P22) from [here](https://politoit-my.sharepoint.com/:f:/g/personal/simone_peirone_polito_it/EqCmaEAi2oBEqEqzBZ-pIA0Bke4EGNkUEhqwApEhUp9tDw?e=DtSbMP) (you need to login with your Polito credentials). \n",
        "\n",
        "You also need to the pretrained checkpoints for each domain from [here](https://politoit-my.sharepoint.com/:f:/g/personal/simone_peirone_polito_it/ErdsZhvmR65Lun5_5O0-l5sBTPjCCZZq2f700Tj_CNzjTQ?e=L1yflf).\n",
        "\n",
        "Upload the dataset on your Google Drive to access it from Google Colab.\n",
        "\n",
        "**NOTE**: As the dataset is quite heavy, we stronly suggest you to implement and test all your code on one for the three dataset. Then, once you are sure everything works, repeat the experiments on the remaining two datasets."
      ]
    },
    {
      "cell_type": "code",
      "execution_count": null,
      "metadata": {
        "id": "s_gKtfqHYVLF"
      },
      "outputs": [],
      "source": [
        "# Mount google drive \n",
        "from google.colab import drive\n",
        "drive.mount('/content/drive')"
      ]
    },
    {
      "cell_type": "code",
      "execution_count": null,
      "metadata": {
        "id": "bQD3eK9JYVLG"
      },
      "outputs": [],
      "source": [
        "%%bash\n",
        "\n",
        "# As read and write operations from google drive are slow, we suggest to copy and unzip\n",
        "# the dataset in a local directory on the Colab's machine.\n",
        "mkdir -p ek_data/frames\n",
        "\n",
        "# Copy the *.tar.gz files of Epic-Kitchens\n",
        "# TODO: replace with your path\n",
        "cp /content/drive/MyDrive/MLDL23/EPIC-Kitchens-55/data/*.tar.gz ./ek_data\n",
        "# Untar\n",
        "for file in ./ek_data/*.tar.gz; do\n",
        "  fn=$(basename $file)\n",
        "  fn=${fn/.tar.gz/}\n",
        "  ls -lah $file\n",
        "  mkdir -p ek_data/frames/$fn\n",
        "  tar xf $file --directory=ek_data/frames/$fn\n",
        "done"
      ]
    },
    {
      "cell_type": "markdown",
      "metadata": {
        "id": "ZDrEwSIQYVLH"
      },
      "source": [
        "## Running the code"
      ]
    },
    {
      "cell_type": "code",
      "execution_count": 1,
      "metadata": {
        "id": "31xCeYMnc67M",
        "outputId": "b5ce1360-f4e8-45c6-81ac-cd3dfa569673",
        "colab": {
          "base_uri": "https://localhost:8080/"
        }
      },
      "outputs": [
        {
          "output_type": "stream",
          "name": "stdout",
          "text": [
            "Cloning into 'mldl23-ego'...\n",
            "remote: Enumerating objects: 48, done.\u001b[K\n",
            "remote: Counting objects: 100% (6/6), done.\u001b[K\n",
            "remote: Compressing objects: 100% (6/6), done.\u001b[K\n",
            "remote: Total 48 (delta 1), reused 0 (delta 0), pack-reused 42\u001b[K\n",
            "Unpacking objects: 100% (48/48), 90.18 MiB | 6.90 MiB/s, done.\n"
          ]
        }
      ],
      "source": [
        "# Clone the public repository (or your repository)\n",
        "!git clone https://github.com/EgovisionPolito/mldl23-ego.git mldl23-ego"
      ]
    },
    {
      "cell_type": "code",
      "execution_count": null,
      "metadata": {
        "id": "OfxNEJA1dbLD"
      },
      "outputs": [],
      "source": [
        "# Install conda on Google Colab\n",
        "\n",
        "!pip install -q condacolab\n",
        "import condacolab\n",
        "condacolab.install()"
      ]
    },
    {
      "cell_type": "code",
      "execution_count": null,
      "metadata": {
        "id": "r9TB8gMAdoWt"
      },
      "outputs": [],
      "source": [
        "# Create a conda environment \n",
        "!conda env create --name egovision -f mldl23-ego/requirements.yaml"
      ]
    },
    {
      "cell_type": "markdown",
      "metadata": {
        "id": "LhzHY6N6YVLJ"
      },
      "source": [
        "**TIP**: As the creation of the Conda Environment may be a slow process, you may look at the `conda-pack` package to store the environment in a .tar.gz archive you can store on Google Drive and restore later."
      ]
    },
    {
      "cell_type": "markdown",
      "metadata": {
        "id": "2oFWFjIsYVLK"
      },
      "source": [
        "## Features extraction"
      ]
    },
    {
      "cell_type": "code",
      "execution_count": null,
      "metadata": {
        "id": "88YghJyXhbfS"
      },
      "outputs": [],
      "source": [
        "%%bash\n",
        "\n",
        "cd mldl23-ego\n",
        "\n",
        "PYTHON_PATH=/usr/local/envs/egovision/bin/python\n",
        "$PYTHON_PATH save_feat.py name=change_me \\\n",
        "  config=configs/I3D_save_feat.yaml \\\n",
        "  dataset.shift=D1-D1 \\\n",
        "  dataset.RGB.data_path=../ek_data/frames "
      ]
    }
  ],
  "metadata": {
    "accelerator": "GPU",
    "colab": {
      "provenance": [],
      "include_colab_link": true
    },
    "gpuClass": "standard",
    "kernelspec": {
      "display_name": "aml22",
      "language": "python",
      "name": "python3"
    },
    "language_info": {
      "codemirror_mode": {
        "name": "ipython",
        "version": 3
      },
      "file_extension": ".py",
      "mimetype": "text/x-python",
      "name": "python",
      "nbconvert_exporter": "python",
      "pygments_lexer": "ipython3",
      "version": "3.7.13"
    },
    "vscode": {
      "interpreter": {
        "hash": "2fc1f0eeae38a5df67b0f713e03196095ce1bfa55aa551576e8e58c2ba904c5a"
      }
    }
  },
  "nbformat": 4,
  "nbformat_minor": 0
}